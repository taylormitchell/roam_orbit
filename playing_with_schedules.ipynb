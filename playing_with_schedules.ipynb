{
 "cells": [
  {
   "cell_type": "code",
   "execution_count": 1,
   "metadata": {},
   "outputs": [],
   "source": [
    "import pandas as pd\n",
    "import numpy as np"
   ]
  },
  {
   "cell_type": "code",
   "execution_count": 38,
   "metadata": {},
   "outputs": [
    {
     "data": {
      "text/plain": [
       "Index(['next_interval', 'factor', 'due', 'num_reviews', 'upvotes',\n",
       "       'downvotes'],\n",
       "      dtype='object')"
      ]
     },
     "execution_count": 38,
     "metadata": {},
     "output_type": "execute_result"
    }
   ],
   "source": [
    "cards.columns"
   ]
  },
  {
   "cell_type": "code",
   "execution_count": 189,
   "metadata": {},
   "outputs": [],
   "source": [
    "factor = 3\n",
    "min_factor = 2"
   ]
  },
  {
   "cell_type": "code",
   "execution_count": 192,
   "metadata": {},
   "outputs": [
    {
     "data": {
      "text/plain": [
       "2.008"
      ]
     },
     "execution_count": 192,
     "metadata": {},
     "output_type": "execute_result"
    }
   ],
   "source": [
    "factor = factor - (factor-min_factor)*0.8\n",
    "factor"
   ]
  },
  {
   "cell_type": "code",
   "execution_count": 179,
   "metadata": {},
   "outputs": [
    {
     "data": {
      "text/plain": [
       "8"
      ]
     },
     "execution_count": 179,
     "metadata": {},
     "output_type": "execute_result"
    }
   ],
   "source": [
    "factor = factor + 1\n",
    "factor"
   ]
  },
  {
   "cell_type": "code",
   "execution_count": 196,
   "metadata": {},
   "outputs": [
    {
     "data": {
      "text/plain": [
       "2.0000128"
      ]
     },
     "execution_count": 196,
     "metadata": {},
     "output_type": "execute_result"
    }
   ],
   "source": [
    "factor = factor - (factor-min_factor)*0.8\n",
    "factor"
   ]
  },
  {
   "cell_type": "code",
   "execution_count": 65,
   "metadata": {},
   "outputs": [
    {
     "name": "stderr",
     "output_type": "stream",
     "text": [
      "/Users/taylor.mitchell@ibm.com/anaconda3/lib/python3.7/site-packages/pandas/core/frame.py:7123: FutureWarning: Sorting because non-concatenation axis is not aligned. A future version\n",
      "of pandas will change to not sort by default.\n",
      "\n",
      "To accept the future behavior, pass 'sort=False'.\n",
      "\n",
      "To retain the current behavior and silence the warning, pass 'sort=True'.\n",
      "\n",
      "  sort=sort,\n"
     ]
    }
   ],
   "source": [
    "new_cards_per_day = 10\n",
    "factor = 3\n",
    "review_time = 5#s\n",
    "num_days = 700\n",
    "drop_cards_pct = 0\n",
    "\n",
    "upvote_pct = 0.2\n",
    "downvote_pct = 0.8\n",
    "\n",
    "upvote_factor_adj = 0.5\n",
    "downvote_factor_adj = 0.5\n",
    "\n",
    "review_time_per_day = np.zeros(num_days)\n",
    "reviewed_cards_per_day = np.zeros(num_days)\n",
    "avg_upvote = np.zeros(num_days)\n",
    "\n",
    "cards = pd.DataFrame([], columns=[\n",
    "    'next_interval', \n",
    "    'factor', \n",
    "    'due', \n",
    "    'num_reviews', \n",
    "    'upvotes',\n",
    "    'downvotes'])\n",
    "for today in range(num_days):\n",
    "    new_cards = pd.DataFrame({\n",
    "        \"next_interval\": [1]*new_cards_per_day,\n",
    "        \"factor\": [factor]*new_cards_per_day,\n",
    "        \"due\": [today]*new_cards_per_day,\n",
    "        \"num_reviews\": [0]*new_cards_per_day,\n",
    "        \"upvotes\": [0]*new_cards_per_day,\n",
    "        \"downvotes\": [0]*new_cards_per_day\n",
    "    })\n",
    "    num_upvote = int(upvote_pct*len(new_cards))\n",
    "    new_cards[\"card_i_like\"] = False\n",
    "    new_cards.loc[:num_upvote,\"card_i_like\"] = True\n",
    "    cards = cards.append(new_cards)\n",
    "    cards.reset_index(drop=True, inplace=True)\n",
    "    \n",
    "    # review cards\n",
    "    due_today_mask = cards.due==today\n",
    "    due_today = cards[cards.due==today].index\n",
    "    num_due_today = len(due_today)\n",
    "    num_upvote = int(upvote_pct*num_due_today)\n",
    "    cards.loc[due_today,\"num_reviews\"] += 1\n",
    "\n",
    "    \n",
    "    # reschedule cards\n",
    "    cards.loc[due_today,\"due\"] += cards.loc[due_today,\"next_interval\"]\n",
    "    cards.loc[due_today_mask&(cards.card_i_like==True),\"upvotes\"] += 1\n",
    "    cards.loc[due_today_mask&(cards.card_i_like==False),\"downvotes\"] += 1\n",
    "    cards.loc[due_today_mask&(cards.card_i_like==True),\"factor\"] *= upvote_factor\n",
    "    cards.loc[due_today_mask&(cards.card_i_like==False),\"factor\"] *= downvote_factor\n",
    "\n",
    "    cards.loc[due_today,\"next_interval\"] = \\\n",
    "        (cards.loc[due_today,\"next_interval\"]*cards.loc[due_today,\"factor\"]).astype(int)\n",
    "    \n",
    "    # records stats\n",
    "    review_time_per_day[today] = review_time*num_due_today\n",
    "    reviewed_cards_per_day[today] = num_due_today\n",
    "    avg_upvote[today] = np.mean(\n",
    "        cards.loc[due_today_mask&(cards.num_reviews>1),\"upvotes\"] / \\\n",
    "        cards.loc[due_today_mask&(cards.num_reviews>1),[\"upvotes\",\"downvotes\"]].sum(axis=1)\n",
    "    )\n",
    "#     # Randomly drop some cards\n",
    "#     idxs = cards[due_today].sample(frac=drop_cards_pct).index\n",
    "#     cards.drop(index=idxs, inplace=True)"
   ]
  },
  {
   "cell_type": "code",
   "execution_count": 68,
   "metadata": {},
   "outputs": [],
   "source": [
    "df = pd.DataFrame({\"stuff\":[1,1,3,3,4], \"other_stuff\":[2,2,2,2,2]})"
   ]
  },
  {
   "cell_type": "code",
   "execution_count": 75,
   "metadata": {},
   "outputs": [],
   "source": [
    "df_1 = df.loc[df.stuff==1,:]"
   ]
  },
  {
   "cell_type": "code",
   "execution_count": 76,
   "metadata": {},
   "outputs": [
    {
     "data": {
      "text/html": [
       "<div>\n",
       "<style scoped>\n",
       "    .dataframe tbody tr th:only-of-type {\n",
       "        vertical-align: middle;\n",
       "    }\n",
       "\n",
       "    .dataframe tbody tr th {\n",
       "        vertical-align: top;\n",
       "    }\n",
       "\n",
       "    .dataframe thead th {\n",
       "        text-align: right;\n",
       "    }\n",
       "</style>\n",
       "<table border=\"1\" class=\"dataframe\">\n",
       "  <thead>\n",
       "    <tr style=\"text-align: right;\">\n",
       "      <th></th>\n",
       "      <th>stuff</th>\n",
       "      <th>other_stuff</th>\n",
       "    </tr>\n",
       "  </thead>\n",
       "  <tbody>\n",
       "    <tr>\n",
       "      <td>0</td>\n",
       "      <td>1</td>\n",
       "      <td>2</td>\n",
       "    </tr>\n",
       "    <tr>\n",
       "      <td>1</td>\n",
       "      <td>1</td>\n",
       "      <td>2</td>\n",
       "    </tr>\n",
       "  </tbody>\n",
       "</table>\n",
       "</div>"
      ],
      "text/plain": [
       "   stuff  other_stuff\n",
       "0      1            2\n",
       "1      1            2"
      ]
     },
     "execution_count": 76,
     "metadata": {},
     "output_type": "execute_result"
    }
   ],
   "source": [
    "df_1"
   ]
  },
  {
   "cell_type": "code",
   "execution_count": 77,
   "metadata": {},
   "outputs": [
    {
     "name": "stderr",
     "output_type": "stream",
     "text": [
      "/Users/taylor.mitchell@ibm.com/anaconda3/lib/python3.7/site-packages/ipykernel_launcher.py:1: SettingWithCopyWarning: \n",
      "A value is trying to be set on a copy of a slice from a DataFrame.\n",
      "Try using .loc[row_indexer,col_indexer] = value instead\n",
      "\n",
      "See the caveats in the documentation: http://pandas.pydata.org/pandas-docs/stable/user_guide/indexing.html#returning-a-view-versus-a-copy\n",
      "  \"\"\"Entry point for launching an IPython kernel.\n"
     ]
    }
   ],
   "source": [
    "df_1[\"other_stuff\"] = 10"
   ]
  },
  {
   "cell_type": "code",
   "execution_count": 69,
   "metadata": {},
   "outputs": [
    {
     "data": {
      "text/html": [
       "<div>\n",
       "<style scoped>\n",
       "    .dataframe tbody tr th:only-of-type {\n",
       "        vertical-align: middle;\n",
       "    }\n",
       "\n",
       "    .dataframe tbody tr th {\n",
       "        vertical-align: top;\n",
       "    }\n",
       "\n",
       "    .dataframe thead th {\n",
       "        text-align: right;\n",
       "    }\n",
       "</style>\n",
       "<table border=\"1\" class=\"dataframe\">\n",
       "  <thead>\n",
       "    <tr style=\"text-align: right;\">\n",
       "      <th></th>\n",
       "      <th>stuff</th>\n",
       "      <th>other_stuff</th>\n",
       "    </tr>\n",
       "  </thead>\n",
       "  <tbody>\n",
       "    <tr>\n",
       "      <td>0</td>\n",
       "      <td>1</td>\n",
       "      <td>2</td>\n",
       "    </tr>\n",
       "    <tr>\n",
       "      <td>1</td>\n",
       "      <td>1</td>\n",
       "      <td>2</td>\n",
       "    </tr>\n",
       "    <tr>\n",
       "      <td>2</td>\n",
       "      <td>3</td>\n",
       "      <td>2</td>\n",
       "    </tr>\n",
       "    <tr>\n",
       "      <td>3</td>\n",
       "      <td>3</td>\n",
       "      <td>2</td>\n",
       "    </tr>\n",
       "    <tr>\n",
       "      <td>4</td>\n",
       "      <td>4</td>\n",
       "      <td>2</td>\n",
       "    </tr>\n",
       "  </tbody>\n",
       "</table>\n",
       "</div>"
      ],
      "text/plain": [
       "   stuff  other_stuff\n",
       "0      1            2\n",
       "1      1            2\n",
       "2      3            2\n",
       "3      3            2\n",
       "4      4            2"
      ]
     },
     "execution_count": 69,
     "metadata": {},
     "output_type": "execute_result"
    }
   ],
   "source": [
    "df"
   ]
  },
  {
   "cell_type": "code",
   "execution_count": 67,
   "metadata": {},
   "outputs": [
    {
     "data": {
      "text/html": [
       "<div>\n",
       "<style scoped>\n",
       "    .dataframe tbody tr th:only-of-type {\n",
       "        vertical-align: middle;\n",
       "    }\n",
       "\n",
       "    .dataframe tbody tr th {\n",
       "        vertical-align: top;\n",
       "    }\n",
       "\n",
       "    .dataframe thead th {\n",
       "        text-align: right;\n",
       "    }\n",
       "</style>\n",
       "<table border=\"1\" class=\"dataframe\">\n",
       "  <thead>\n",
       "    <tr style=\"text-align: right;\">\n",
       "      <th></th>\n",
       "      <th>card_i_like</th>\n",
       "      <th>downvotes</th>\n",
       "      <th>due</th>\n",
       "      <th>factor</th>\n",
       "      <th>next_interval</th>\n",
       "      <th>num_reviews</th>\n",
       "      <th>upvotes</th>\n",
       "    </tr>\n",
       "  </thead>\n",
       "  <tbody>\n",
       "    <tr>\n",
       "      <td>0</td>\n",
       "      <td>True</td>\n",
       "      <td>0</td>\n",
       "      <td>688</td>\n",
       "      <td>0.36473</td>\n",
       "      <td>0</td>\n",
       "      <td>20</td>\n",
       "      <td>20</td>\n",
       "    </tr>\n",
       "    <tr>\n",
       "      <td>1</td>\n",
       "      <td>True</td>\n",
       "      <td>0</td>\n",
       "      <td>688</td>\n",
       "      <td>0.36473</td>\n",
       "      <td>0</td>\n",
       "      <td>20</td>\n",
       "      <td>20</td>\n",
       "    </tr>\n",
       "    <tr>\n",
       "      <td>2</td>\n",
       "      <td>True</td>\n",
       "      <td>0</td>\n",
       "      <td>688</td>\n",
       "      <td>0.36473</td>\n",
       "      <td>0</td>\n",
       "      <td>20</td>\n",
       "      <td>20</td>\n",
       "    </tr>\n",
       "    <tr>\n",
       "      <td>3</td>\n",
       "      <td>False</td>\n",
       "      <td>5</td>\n",
       "      <td>4451</td>\n",
       "      <td>22.7812</td>\n",
       "      <td>94451</td>\n",
       "      <td>5</td>\n",
       "      <td>0</td>\n",
       "    </tr>\n",
       "    <tr>\n",
       "      <td>4</td>\n",
       "      <td>False</td>\n",
       "      <td>5</td>\n",
       "      <td>4451</td>\n",
       "      <td>22.7812</td>\n",
       "      <td>94451</td>\n",
       "      <td>5</td>\n",
       "      <td>0</td>\n",
       "    </tr>\n",
       "  </tbody>\n",
       "</table>\n",
       "</div>"
      ],
      "text/plain": [
       "  card_i_like downvotes   due   factor next_interval num_reviews upvotes\n",
       "0        True         0   688  0.36473             0          20      20\n",
       "1        True         0   688  0.36473             0          20      20\n",
       "2        True         0   688  0.36473             0          20      20\n",
       "3       False         5  4451  22.7812         94451           5       0\n",
       "4       False         5  4451  22.7812         94451           5       0"
      ]
     },
     "execution_count": 67,
     "metadata": {},
     "output_type": "execute_result"
    }
   ],
   "source": [
    "cards.head()"
   ]
  },
  {
   "cell_type": "code",
   "execution_count": null,
   "metadata": {},
   "outputs": [],
   "source": [
    "cards."
   ]
  },
  {
   "cell_type": "code",
   "execution_count": 66,
   "metadata": {},
   "outputs": [
    {
     "data": {
      "text/plain": [
       "<matplotlib.axes._subplots.AxesSubplot at 0x7fcf613c2518>"
      ]
     },
     "execution_count": 66,
     "metadata": {},
     "output_type": "execute_result"
    },
    {
     "data": {
      "image/png": "[encoded data removed]",
      "text/plain": [
       "<Figure size 432x288 with 1 Axes>"
      ]
     },
     "metadata": {
      "needs_background": "light"
     },
     "output_type": "display_data"
    }
   ],
   "source": [
    "pd.Series(avg_upvote).plot()"
   ]
  },
  {
   "cell_type": "code",
   "execution_count": 41,
   "metadata": {},
   "outputs": [
    {
     "data": {
      "text/html": [
       "<div>\n",
       "<style scoped>\n",
       "    .dataframe tbody tr th:only-of-type {\n",
       "        vertical-align: middle;\n",
       "    }\n",
       "\n",
       "    .dataframe tbody tr th {\n",
       "        vertical-align: top;\n",
       "    }\n",
       "\n",
       "    .dataframe thead th {\n",
       "        text-align: right;\n",
       "    }\n",
       "</style>\n",
       "<table border=\"1\" class=\"dataframe\">\n",
       "  <thead>\n",
       "    <tr style=\"text-align: right;\">\n",
       "      <th></th>\n",
       "      <th>next_interval</th>\n",
       "      <th>factor</th>\n",
       "      <th>due</th>\n",
       "      <th>num_reviews</th>\n",
       "      <th>upvotes</th>\n",
       "      <th>downvotes</th>\n",
       "    </tr>\n",
       "  </thead>\n",
       "  <tbody>\n",
       "    <tr>\n",
       "      <td>4750</td>\n",
       "      <td>2401</td>\n",
       "      <td>3.55776</td>\n",
       "      <td>1374</td>\n",
       "      <td>6</td>\n",
       "      <td>2</td>\n",
       "      <td>4</td>\n",
       "    </tr>\n",
       "    <tr>\n",
       "      <td>4751</td>\n",
       "      <td>2401</td>\n",
       "      <td>3.55776</td>\n",
       "      <td>1374</td>\n",
       "      <td>6</td>\n",
       "      <td>2</td>\n",
       "      <td>4</td>\n",
       "    </tr>\n",
       "    <tr>\n",
       "      <td>4752</td>\n",
       "      <td>3591</td>\n",
       "      <td>4.34838</td>\n",
       "      <td>1525</td>\n",
       "      <td>6</td>\n",
       "      <td>1</td>\n",
       "      <td>5</td>\n",
       "    </tr>\n",
       "    <tr>\n",
       "      <td>4753</td>\n",
       "      <td>3591</td>\n",
       "      <td>4.34838</td>\n",
       "      <td>1525</td>\n",
       "      <td>6</td>\n",
       "      <td>1</td>\n",
       "      <td>5</td>\n",
       "    </tr>\n",
       "    <tr>\n",
       "      <td>4754</td>\n",
       "      <td>3591</td>\n",
       "      <td>4.34838</td>\n",
       "      <td>1525</td>\n",
       "      <td>6</td>\n",
       "      <td>1</td>\n",
       "      <td>5</td>\n",
       "    </tr>\n",
       "    <tr>\n",
       "      <td>4755</td>\n",
       "      <td>3591</td>\n",
       "      <td>4.34838</td>\n",
       "      <td>1525</td>\n",
       "      <td>6</td>\n",
       "      <td>1</td>\n",
       "      <td>5</td>\n",
       "    </tr>\n",
       "    <tr>\n",
       "      <td>4756</td>\n",
       "      <td>3591</td>\n",
       "      <td>4.34838</td>\n",
       "      <td>1525</td>\n",
       "      <td>6</td>\n",
       "      <td>1</td>\n",
       "      <td>5</td>\n",
       "    </tr>\n",
       "    <tr>\n",
       "      <td>4757</td>\n",
       "      <td>3591</td>\n",
       "      <td>4.34838</td>\n",
       "      <td>1525</td>\n",
       "      <td>6</td>\n",
       "      <td>1</td>\n",
       "      <td>5</td>\n",
       "    </tr>\n",
       "    <tr>\n",
       "      <td>4758</td>\n",
       "      <td>3591</td>\n",
       "      <td>4.34838</td>\n",
       "      <td>1525</td>\n",
       "      <td>6</td>\n",
       "      <td>1</td>\n",
       "      <td>5</td>\n",
       "    </tr>\n",
       "    <tr>\n",
       "      <td>4759</td>\n",
       "      <td>3591</td>\n",
       "      <td>4.34838</td>\n",
       "      <td>1525</td>\n",
       "      <td>6</td>\n",
       "      <td>1</td>\n",
       "      <td>5</td>\n",
       "    </tr>\n",
       "    <tr>\n",
       "      <td>6460</td>\n",
       "      <td>675</td>\n",
       "      <td>3.95307</td>\n",
       "      <td>870</td>\n",
       "      <td>5</td>\n",
       "      <td>1</td>\n",
       "      <td>4</td>\n",
       "    </tr>\n",
       "    <tr>\n",
       "      <td>6461</td>\n",
       "      <td>675</td>\n",
       "      <td>3.95307</td>\n",
       "      <td>870</td>\n",
       "      <td>5</td>\n",
       "      <td>1</td>\n",
       "      <td>4</td>\n",
       "    </tr>\n",
       "    <tr>\n",
       "      <td>6462</td>\n",
       "      <td>826</td>\n",
       "      <td>4.83153</td>\n",
       "      <td>870</td>\n",
       "      <td>5</td>\n",
       "      <td>0</td>\n",
       "      <td>5</td>\n",
       "    </tr>\n",
       "    <tr>\n",
       "      <td>6463</td>\n",
       "      <td>826</td>\n",
       "      <td>4.83153</td>\n",
       "      <td>870</td>\n",
       "      <td>5</td>\n",
       "      <td>0</td>\n",
       "      <td>5</td>\n",
       "    </tr>\n",
       "    <tr>\n",
       "      <td>6464</td>\n",
       "      <td>826</td>\n",
       "      <td>4.83153</td>\n",
       "      <td>870</td>\n",
       "      <td>5</td>\n",
       "      <td>0</td>\n",
       "      <td>5</td>\n",
       "    </tr>\n",
       "    <tr>\n",
       "      <td>6465</td>\n",
       "      <td>826</td>\n",
       "      <td>4.83153</td>\n",
       "      <td>870</td>\n",
       "      <td>5</td>\n",
       "      <td>0</td>\n",
       "      <td>5</td>\n",
       "    </tr>\n",
       "    <tr>\n",
       "      <td>6466</td>\n",
       "      <td>826</td>\n",
       "      <td>4.83153</td>\n",
       "      <td>870</td>\n",
       "      <td>5</td>\n",
       "      <td>0</td>\n",
       "      <td>5</td>\n",
       "    </tr>\n",
       "    <tr>\n",
       "      <td>6467</td>\n",
       "      <td>826</td>\n",
       "      <td>4.83153</td>\n",
       "      <td>870</td>\n",
       "      <td>5</td>\n",
       "      <td>0</td>\n",
       "      <td>5</td>\n",
       "    </tr>\n",
       "    <tr>\n",
       "      <td>6468</td>\n",
       "      <td>826</td>\n",
       "      <td>4.83153</td>\n",
       "      <td>870</td>\n",
       "      <td>5</td>\n",
       "      <td>0</td>\n",
       "      <td>5</td>\n",
       "    </tr>\n",
       "    <tr>\n",
       "      <td>6469</td>\n",
       "      <td>826</td>\n",
       "      <td>4.83153</td>\n",
       "      <td>870</td>\n",
       "      <td>5</td>\n",
       "      <td>0</td>\n",
       "      <td>5</td>\n",
       "    </tr>\n",
       "    <tr>\n",
       "      <td>6850</td>\n",
       "      <td>171</td>\n",
       "      <td>4.3923</td>\n",
       "      <td>738</td>\n",
       "      <td>4</td>\n",
       "      <td>0</td>\n",
       "      <td>4</td>\n",
       "    </tr>\n",
       "    <tr>\n",
       "      <td>6851</td>\n",
       "      <td>171</td>\n",
       "      <td>4.3923</td>\n",
       "      <td>738</td>\n",
       "      <td>4</td>\n",
       "      <td>0</td>\n",
       "      <td>4</td>\n",
       "    </tr>\n",
       "    <tr>\n",
       "      <td>6852</td>\n",
       "      <td>171</td>\n",
       "      <td>4.3923</td>\n",
       "      <td>738</td>\n",
       "      <td>4</td>\n",
       "      <td>0</td>\n",
       "      <td>4</td>\n",
       "    </tr>\n",
       "    <tr>\n",
       "      <td>6853</td>\n",
       "      <td>171</td>\n",
       "      <td>4.3923</td>\n",
       "      <td>738</td>\n",
       "      <td>4</td>\n",
       "      <td>0</td>\n",
       "      <td>4</td>\n",
       "    </tr>\n",
       "    <tr>\n",
       "      <td>6854</td>\n",
       "      <td>171</td>\n",
       "      <td>4.3923</td>\n",
       "      <td>738</td>\n",
       "      <td>4</td>\n",
       "      <td>0</td>\n",
       "      <td>4</td>\n",
       "    </tr>\n",
       "    <tr>\n",
       "      <td>6855</td>\n",
       "      <td>171</td>\n",
       "      <td>4.3923</td>\n",
       "      <td>738</td>\n",
       "      <td>4</td>\n",
       "      <td>0</td>\n",
       "      <td>4</td>\n",
       "    </tr>\n",
       "    <tr>\n",
       "      <td>6856</td>\n",
       "      <td>171</td>\n",
       "      <td>4.3923</td>\n",
       "      <td>738</td>\n",
       "      <td>4</td>\n",
       "      <td>0</td>\n",
       "      <td>4</td>\n",
       "    </tr>\n",
       "    <tr>\n",
       "      <td>6857</td>\n",
       "      <td>171</td>\n",
       "      <td>4.3923</td>\n",
       "      <td>738</td>\n",
       "      <td>4</td>\n",
       "      <td>0</td>\n",
       "      <td>4</td>\n",
       "    </tr>\n",
       "    <tr>\n",
       "      <td>6858</td>\n",
       "      <td>171</td>\n",
       "      <td>4.3923</td>\n",
       "      <td>738</td>\n",
       "      <td>4</td>\n",
       "      <td>0</td>\n",
       "      <td>4</td>\n",
       "    </tr>\n",
       "    <tr>\n",
       "      <td>6859</td>\n",
       "      <td>171</td>\n",
       "      <td>4.3923</td>\n",
       "      <td>738</td>\n",
       "      <td>4</td>\n",
       "      <td>0</td>\n",
       "      <td>4</td>\n",
       "    </tr>\n",
       "    <tr>\n",
       "      <td>6950</td>\n",
       "      <td>39</td>\n",
       "      <td>3.993</td>\n",
       "      <td>709</td>\n",
       "      <td>3</td>\n",
       "      <td>0</td>\n",
       "      <td>3</td>\n",
       "    </tr>\n",
       "    <tr>\n",
       "      <td>6951</td>\n",
       "      <td>39</td>\n",
       "      <td>3.993</td>\n",
       "      <td>709</td>\n",
       "      <td>3</td>\n",
       "      <td>0</td>\n",
       "      <td>3</td>\n",
       "    </tr>\n",
       "    <tr>\n",
       "      <td>6952</td>\n",
       "      <td>39</td>\n",
       "      <td>3.993</td>\n",
       "      <td>709</td>\n",
       "      <td>3</td>\n",
       "      <td>0</td>\n",
       "      <td>3</td>\n",
       "    </tr>\n",
       "    <tr>\n",
       "      <td>6953</td>\n",
       "      <td>39</td>\n",
       "      <td>3.993</td>\n",
       "      <td>709</td>\n",
       "      <td>3</td>\n",
       "      <td>0</td>\n",
       "      <td>3</td>\n",
       "    </tr>\n",
       "    <tr>\n",
       "      <td>6954</td>\n",
       "      <td>39</td>\n",
       "      <td>3.993</td>\n",
       "      <td>709</td>\n",
       "      <td>3</td>\n",
       "      <td>0</td>\n",
       "      <td>3</td>\n",
       "    </tr>\n",
       "    <tr>\n",
       "      <td>6955</td>\n",
       "      <td>39</td>\n",
       "      <td>3.993</td>\n",
       "      <td>709</td>\n",
       "      <td>3</td>\n",
       "      <td>0</td>\n",
       "      <td>3</td>\n",
       "    </tr>\n",
       "    <tr>\n",
       "      <td>6956</td>\n",
       "      <td>39</td>\n",
       "      <td>3.993</td>\n",
       "      <td>709</td>\n",
       "      <td>3</td>\n",
       "      <td>0</td>\n",
       "      <td>3</td>\n",
       "    </tr>\n",
       "    <tr>\n",
       "      <td>6957</td>\n",
       "      <td>39</td>\n",
       "      <td>3.993</td>\n",
       "      <td>709</td>\n",
       "      <td>3</td>\n",
       "      <td>0</td>\n",
       "      <td>3</td>\n",
       "    </tr>\n",
       "    <tr>\n",
       "      <td>6958</td>\n",
       "      <td>39</td>\n",
       "      <td>3.993</td>\n",
       "      <td>709</td>\n",
       "      <td>3</td>\n",
       "      <td>0</td>\n",
       "      <td>3</td>\n",
       "    </tr>\n",
       "    <tr>\n",
       "      <td>6959</td>\n",
       "      <td>39</td>\n",
       "      <td>3.993</td>\n",
       "      <td>709</td>\n",
       "      <td>3</td>\n",
       "      <td>0</td>\n",
       "      <td>3</td>\n",
       "    </tr>\n",
       "    <tr>\n",
       "      <td>6980</td>\n",
       "      <td>10</td>\n",
       "      <td>3.63</td>\n",
       "      <td>702</td>\n",
       "      <td>2</td>\n",
       "      <td>0</td>\n",
       "      <td>2</td>\n",
       "    </tr>\n",
       "    <tr>\n",
       "      <td>6981</td>\n",
       "      <td>10</td>\n",
       "      <td>3.63</td>\n",
       "      <td>702</td>\n",
       "      <td>2</td>\n",
       "      <td>0</td>\n",
       "      <td>2</td>\n",
       "    </tr>\n",
       "    <tr>\n",
       "      <td>6982</td>\n",
       "      <td>10</td>\n",
       "      <td>3.63</td>\n",
       "      <td>702</td>\n",
       "      <td>2</td>\n",
       "      <td>0</td>\n",
       "      <td>2</td>\n",
       "    </tr>\n",
       "    <tr>\n",
       "      <td>6983</td>\n",
       "      <td>10</td>\n",
       "      <td>3.63</td>\n",
       "      <td>702</td>\n",
       "      <td>2</td>\n",
       "      <td>0</td>\n",
       "      <td>2</td>\n",
       "    </tr>\n",
       "    <tr>\n",
       "      <td>6984</td>\n",
       "      <td>10</td>\n",
       "      <td>3.63</td>\n",
       "      <td>702</td>\n",
       "      <td>2</td>\n",
       "      <td>0</td>\n",
       "      <td>2</td>\n",
       "    </tr>\n",
       "    <tr>\n",
       "      <td>6985</td>\n",
       "      <td>10</td>\n",
       "      <td>3.63</td>\n",
       "      <td>702</td>\n",
       "      <td>2</td>\n",
       "      <td>0</td>\n",
       "      <td>2</td>\n",
       "    </tr>\n",
       "    <tr>\n",
       "      <td>6986</td>\n",
       "      <td>10</td>\n",
       "      <td>3.63</td>\n",
       "      <td>702</td>\n",
       "      <td>2</td>\n",
       "      <td>0</td>\n",
       "      <td>2</td>\n",
       "    </tr>\n",
       "    <tr>\n",
       "      <td>6987</td>\n",
       "      <td>10</td>\n",
       "      <td>3.63</td>\n",
       "      <td>702</td>\n",
       "      <td>2</td>\n",
       "      <td>0</td>\n",
       "      <td>2</td>\n",
       "    </tr>\n",
       "    <tr>\n",
       "      <td>6988</td>\n",
       "      <td>10</td>\n",
       "      <td>3.63</td>\n",
       "      <td>702</td>\n",
       "      <td>2</td>\n",
       "      <td>0</td>\n",
       "      <td>2</td>\n",
       "    </tr>\n",
       "    <tr>\n",
       "      <td>6989</td>\n",
       "      <td>10</td>\n",
       "      <td>3.63</td>\n",
       "      <td>702</td>\n",
       "      <td>2</td>\n",
       "      <td>0</td>\n",
       "      <td>2</td>\n",
       "    </tr>\n",
       "    <tr>\n",
       "      <td>6990</td>\n",
       "      <td>3</td>\n",
       "      <td>3.3</td>\n",
       "      <td>700</td>\n",
       "      <td>1</td>\n",
       "      <td>0</td>\n",
       "      <td>1</td>\n",
       "    </tr>\n",
       "    <tr>\n",
       "      <td>6991</td>\n",
       "      <td>3</td>\n",
       "      <td>3.3</td>\n",
       "      <td>700</td>\n",
       "      <td>1</td>\n",
       "      <td>0</td>\n",
       "      <td>1</td>\n",
       "    </tr>\n",
       "    <tr>\n",
       "      <td>6992</td>\n",
       "      <td>3</td>\n",
       "      <td>3.3</td>\n",
       "      <td>700</td>\n",
       "      <td>1</td>\n",
       "      <td>0</td>\n",
       "      <td>1</td>\n",
       "    </tr>\n",
       "    <tr>\n",
       "      <td>6993</td>\n",
       "      <td>3</td>\n",
       "      <td>3.3</td>\n",
       "      <td>700</td>\n",
       "      <td>1</td>\n",
       "      <td>0</td>\n",
       "      <td>1</td>\n",
       "    </tr>\n",
       "    <tr>\n",
       "      <td>6994</td>\n",
       "      <td>3</td>\n",
       "      <td>3.3</td>\n",
       "      <td>700</td>\n",
       "      <td>1</td>\n",
       "      <td>0</td>\n",
       "      <td>1</td>\n",
       "    </tr>\n",
       "    <tr>\n",
       "      <td>6995</td>\n",
       "      <td>3</td>\n",
       "      <td>3.3</td>\n",
       "      <td>700</td>\n",
       "      <td>1</td>\n",
       "      <td>0</td>\n",
       "      <td>1</td>\n",
       "    </tr>\n",
       "    <tr>\n",
       "      <td>6996</td>\n",
       "      <td>3</td>\n",
       "      <td>3.3</td>\n",
       "      <td>700</td>\n",
       "      <td>1</td>\n",
       "      <td>0</td>\n",
       "      <td>1</td>\n",
       "    </tr>\n",
       "    <tr>\n",
       "      <td>6997</td>\n",
       "      <td>3</td>\n",
       "      <td>3.3</td>\n",
       "      <td>700</td>\n",
       "      <td>1</td>\n",
       "      <td>0</td>\n",
       "      <td>1</td>\n",
       "    </tr>\n",
       "    <tr>\n",
       "      <td>6998</td>\n",
       "      <td>3</td>\n",
       "      <td>3.3</td>\n",
       "      <td>700</td>\n",
       "      <td>1</td>\n",
       "      <td>0</td>\n",
       "      <td>1</td>\n",
       "    </tr>\n",
       "    <tr>\n",
       "      <td>6999</td>\n",
       "      <td>3</td>\n",
       "      <td>3.3</td>\n",
       "      <td>700</td>\n",
       "      <td>1</td>\n",
       "      <td>0</td>\n",
       "      <td>1</td>\n",
       "    </tr>\n",
       "  </tbody>\n",
       "</table>\n",
       "</div>"
      ],
      "text/plain": [
       "     next_interval   factor   due num_reviews upvotes downvotes\n",
       "4750          2401  3.55776  1374           6       2         4\n",
       "4751          2401  3.55776  1374           6       2         4\n",
       "4752          3591  4.34838  1525           6       1         5\n",
       "4753          3591  4.34838  1525           6       1         5\n",
       "4754          3591  4.34838  1525           6       1         5\n",
       "4755          3591  4.34838  1525           6       1         5\n",
       "4756          3591  4.34838  1525           6       1         5\n",
       "4757          3591  4.34838  1525           6       1         5\n",
       "4758          3591  4.34838  1525           6       1         5\n",
       "4759          3591  4.34838  1525           6       1         5\n",
       "6460           675  3.95307   870           5       1         4\n",
       "6461           675  3.95307   870           5       1         4\n",
       "6462           826  4.83153   870           5       0         5\n",
       "6463           826  4.83153   870           5       0         5\n",
       "6464           826  4.83153   870           5       0         5\n",
       "6465           826  4.83153   870           5       0         5\n",
       "6466           826  4.83153   870           5       0         5\n",
       "6467           826  4.83153   870           5       0         5\n",
       "6468           826  4.83153   870           5       0         5\n",
       "6469           826  4.83153   870           5       0         5\n",
       "6850           171   4.3923   738           4       0         4\n",
       "6851           171   4.3923   738           4       0         4\n",
       "6852           171   4.3923   738           4       0         4\n",
       "6853           171   4.3923   738           4       0         4\n",
       "6854           171   4.3923   738           4       0         4\n",
       "6855           171   4.3923   738           4       0         4\n",
       "6856           171   4.3923   738           4       0         4\n",
       "6857           171   4.3923   738           4       0         4\n",
       "6858           171   4.3923   738           4       0         4\n",
       "6859           171   4.3923   738           4       0         4\n",
       "6950            39    3.993   709           3       0         3\n",
       "6951            39    3.993   709           3       0         3\n",
       "6952            39    3.993   709           3       0         3\n",
       "6953            39    3.993   709           3       0         3\n",
       "6954            39    3.993   709           3       0         3\n",
       "6955            39    3.993   709           3       0         3\n",
       "6956            39    3.993   709           3       0         3\n",
       "6957            39    3.993   709           3       0         3\n",
       "6958            39    3.993   709           3       0         3\n",
       "6959            39    3.993   709           3       0         3\n",
       "6980            10     3.63   702           2       0         2\n",
       "6981            10     3.63   702           2       0         2\n",
       "6982            10     3.63   702           2       0         2\n",
       "6983            10     3.63   702           2       0         2\n",
       "6984            10     3.63   702           2       0         2\n",
       "6985            10     3.63   702           2       0         2\n",
       "6986            10     3.63   702           2       0         2\n",
       "6987            10     3.63   702           2       0         2\n",
       "6988            10     3.63   702           2       0         2\n",
       "6989            10     3.63   702           2       0         2\n",
       "6990             3      3.3   700           1       0         1\n",
       "6991             3      3.3   700           1       0         1\n",
       "6992             3      3.3   700           1       0         1\n",
       "6993             3      3.3   700           1       0         1\n",
       "6994             3      3.3   700           1       0         1\n",
       "6995             3      3.3   700           1       0         1\n",
       "6996             3      3.3   700           1       0         1\n",
       "6997             3      3.3   700           1       0         1\n",
       "6998             3      3.3   700           1       0         1\n",
       "6999             3      3.3   700           1       0         1"
      ]
     },
     "execution_count": 41,
     "metadata": {},
     "output_type": "execute_result"
    }
   ],
   "source": [
    "cards.loc[due_today]"
   ]
  },
  {
   "cell_type": "code",
   "execution_count": 30,
   "metadata": {},
   "outputs": [
    {
     "data": {
      "text/plain": [
       "4.6875"
      ]
     },
     "execution_count": 30,
     "metadata": {},
     "output_type": "execute_result"
    }
   ],
   "source": [
    "np.mean(review_time_per_day/60)"
   ]
  },
  {
   "cell_type": "code",
   "execution_count": 31,
   "metadata": {},
   "outputs": [
    {
     "data": {
      "text/plain": [
       "<matplotlib.axes._subplots.AxesSubplot at 0x7fcf5f7b0240>"
      ]
     },
     "execution_count": 31,
     "metadata": {},
     "output_type": "execute_result"
    },
    {
     "data": {
      "image/png": "[encoded data removed]",
      "text/plain": [
       "<Figure size 432x288 with 1 Axes>"
      ]
     },
     "metadata": {
      "needs_background": "light"
     },
     "output_type": "display_data"
    }
   ],
   "source": [
    "pd.Series(review_time_per_day/60).plot()"
   ]
  },
  {
   "cell_type": "code",
   "execution_count": 25,
   "metadata": {},
   "outputs": [
    {
     "data": {
      "text/plain": [
       "2.6764285714285716"
      ]
     },
     "execution_count": 25,
     "metadata": {},
     "output_type": "execute_result"
    }
   ],
   "source": [
    "np.mean(review_time_per_day/60)"
   ]
  },
  {
   "cell_type": "code",
   "execution_count": 23,
   "metadata": {},
   "outputs": [
    {
     "data": {
      "text/plain": [
       "<matplotlib.axes._subplots.AxesSubplot at 0x7fcf5e0792e8>"
      ]
     },
     "execution_count": 23,
     "metadata": {},
     "output_type": "execute_result"
    },
    {
     "data": {
      "image/png": "[encoded data removed]",
      "text/plain": [
       "<Figure size 432x288 with 1 Axes>"
      ]
     },
     "metadata": {
      "needs_background": "light"
     },
     "output_type": "display_data"
    }
   ],
   "source": [
    "pd.Series(review_time_per_day/60).plot()"
   ]
  },
  {
   "cell_type": "code",
   "execution_count": null,
   "metadata": {},
   "outputs": [],
   "source": []
  },
  {
   "cell_type": "code",
   "execution_count": null,
   "metadata": {},
   "outputs": [],
   "source": []
  },
  {
   "cell_type": "code",
   "execution_count": 250,
   "metadata": {},
   "outputs": [
    {
     "data": {
      "text/plain": [
       "<matplotlib.axes._subplots.AxesSubplot at 0x7fa8a981f400>"
      ]
     },
     "execution_count": 250,
     "metadata": {},
     "output_type": "execute_result"
    },
    {
     "data": {
      "image/png": "[encoded data removed]",
      "text/plain": [
       "<Figure size 432x288 with 1 Axes>"
      ]
     },
     "metadata": {
      "needs_background": "light"
     },
     "output_type": "display_data"
    }
   ],
   "source": [
    "arr = (review_time_per_day/60).cumsum() / np.array(range(1,len(review_time_per_day)+1))\n",
    "pd.Series(arr).plot()"
   ]
  },
  {
   "cell_type": "code",
   "execution_count": 212,
   "metadata": {},
   "outputs": [
    {
     "data": {
      "text/plain": [
       "<matplotlib.axes._subplots.AxesSubplot at 0x7fa8a8f78cf8>"
      ]
     },
     "execution_count": 212,
     "metadata": {},
     "output_type": "execute_result"
    },
    {
     "data": {
      "image/png": "[encoded data removed]",
      "text/plain": [
       "<Figure size 432x288 with 1 Axes>"
      ]
     },
     "metadata": {
      "needs_background": "light"
     },
     "output_type": "display_data"
    }
   ],
   "source": [
    "pd.Series(review_time_per_day/60).plot()"
   ]
  },
  {
   "cell_type": "code",
   "execution_count": 54,
   "metadata": {},
   "outputs": [],
   "source": [
    "factor = 1.1\n",
    "review_time = 13#s"
   ]
  },
  {
   "cell_type": "code",
   "execution_count": 55,
   "metadata": {},
   "outputs": [],
   "source": [
    "from collections import defaultdict"
   ]
  },
  {
   "cell_type": "code",
   "execution_count": 56,
   "metadata": {},
   "outputs": [],
   "source": [
    "d = defaultdict(int)"
   ]
  },
  {
   "cell_type": "code",
   "execution_count": 57,
   "metadata": {},
   "outputs": [],
   "source": [
    "d[0] += 10\n",
    "d[1] += 10\n",
    "d[1] += 10"
   ]
  },
  {
   "cell_type": "code",
   "execution_count": 62,
   "metadata": {},
   "outputs": [],
   "source": [
    "review_time_on_day = defaultdict(float)\n",
    "current_day = 0\n",
    "interval = 1\n",
    "review_time_on_day[current_day] += 13\n",
    "for i in range(10):\n",
    "    current_day += interval\n",
    "    review_time_on_day[current_day] += 13\n",
    "    interval = factor*interval"
   ]
  },
  {
   "cell_type": "code",
   "execution_count": 65,
   "metadata": {},
   "outputs": [],
   "source": [
    "last_day = int(max(review_time_on_day.keys()) + 2)\n",
    "days = np.zeros(last_day, dtype=np.float)"
   ]
  },
  {
   "cell_type": "code",
   "execution_count": 66,
   "metadata": {},
   "outputs": [
    {
     "data": {
      "text/plain": [
       "17"
      ]
     },
     "execution_count": 66,
     "metadata": {},
     "output_type": "execute_result"
    }
   ],
   "source": [
    "last_day"
   ]
  },
  {
   "cell_type": "code",
   "execution_count": 68,
   "metadata": {},
   "outputs": [
    {
     "data": {
      "text/plain": [
       "array([13., 13.,  0.,  0.,  0.,  0.,  0.,  0.,  0.,  0.,  0.,  0.,  0.,\n",
       "        0.,  0.,  0.,  0.])"
      ]
     },
     "execution_count": 68,
     "metadata": {},
     "output_type": "execute_result"
    }
   ],
   "source": [
    "days"
   ]
  },
  {
   "cell_type": "code",
   "execution_count": 67,
   "metadata": {},
   "outputs": [
    {
     "ename": "IndexError",
     "evalue": "only integers, slices (`:`), ellipsis (`...`), numpy.newaxis (`None`) and integer or boolean arrays are valid indices",
     "output_type": "error",
     "traceback": [
      "\u001b[0;31m---------------------------------------------------------------------------\u001b[0m",
      "\u001b[0;31mIndexError\u001b[0m                                Traceback (most recent call last)",
      "\u001b[0;32m<ipython-input-67-e93bb73e9c70>\u001b[0m in \u001b[0;36m<module>\u001b[0;34m\u001b[0m\n\u001b[1;32m      1\u001b[0m \u001b[0;32mfor\u001b[0m \u001b[0md\u001b[0m\u001b[0;34m,\u001b[0m\u001b[0mt\u001b[0m \u001b[0;32min\u001b[0m \u001b[0mreview_time_on_day\u001b[0m\u001b[0;34m.\u001b[0m\u001b[0mitems\u001b[0m\u001b[0;34m(\u001b[0m\u001b[0;34m)\u001b[0m\u001b[0;34m:\u001b[0m\u001b[0;34m\u001b[0m\u001b[0;34m\u001b[0m\u001b[0m\n\u001b[0;32m----> 2\u001b[0;31m     \u001b[0mdays\u001b[0m\u001b[0;34m[\u001b[0m\u001b[0md\u001b[0m\u001b[0;34m]\u001b[0m \u001b[0;34m=\u001b[0m \u001b[0mt\u001b[0m\u001b[0;34m\u001b[0m\u001b[0;34m\u001b[0m\u001b[0m\n\u001b[0m",
      "\u001b[0;31mIndexError\u001b[0m: only integers, slices (`:`), ellipsis (`...`), numpy.newaxis (`None`) and integer or boolean arrays are valid indices"
     ]
    }
   ],
   "source": [
    "for d,t in review_time_on_day.items():\n",
    "    days[d] = t"
   ]
  },
  {
   "cell_type": "code",
   "execution_count": 38,
   "metadata": {},
   "outputs": [
    {
     "data": {
      "text/plain": [
       "<matplotlib.axes._subplots.AxesSubplot at 0x7fab8137fb38>"
      ]
     },
     "execution_count": 38,
     "metadata": {},
     "output_type": "execute_result"
    },
    {
     "data": {
      "image/png": "[encoded data removed]",
      "text/plain": [
       "<Figure size 432x288 with 1 Axes>"
      ]
     },
     "metadata": {
      "needs_background": "light"
     },
     "output_type": "display_data"
    }
   ],
   "source": [
    "pd.Series(days).plot()"
   ]
  },
  {
   "cell_type": "code",
   "execution_count": 34,
   "metadata": {},
   "outputs": [
    {
     "data": {
      "text/plain": [
       "array([13, 13,  0, ...,  0,  0, 13])"
      ]
     },
     "execution_count": 34,
     "metadata": {},
     "output_type": "execute_result"
    }
   ],
   "source": [
    "days"
   ]
  },
  {
   "cell_type": "code",
   "execution_count": 52,
   "metadata": {},
   "outputs": [],
   "source": [
    "total_review_mins = 0\n",
    "avg_review_over_time = []\n",
    "for days_reviewed,review_mins in enumerate(days[:1000]):\n",
    "    total_review_mins += review_mins\n",
    "    avg_review_over_time.append(total_review_mins/(days_reviewed+1))"
   ]
  },
  {
   "cell_type": "code",
   "execution_count": 43,
   "metadata": {},
   "outputs": [
    {
     "data": {
      "text/plain": [
       "<matplotlib.axes._subplots.AxesSubplot at 0x7fab81fc42e8>"
      ]
     },
     "execution_count": 43,
     "metadata": {},
     "output_type": "execute_result"
    },
    {
     "data": {
      "image/png": "[encoded data removed]",
      "text/plain": [
       "<Figure size 432x288 with 1 Axes>"
      ]
     },
     "metadata": {
      "needs_background": "light"
     },
     "output_type": "display_data"
    }
   ],
   "source": [
    "pd.Series(avg_review_over_time).plot()"
   ]
  },
  {
   "cell_type": "code",
   "execution_count": 53,
   "metadata": {},
   "outputs": [
    {
     "data": {
      "text/plain": [
       "<matplotlib.axes._subplots.AxesSubplot at 0x7fab822e8e10>"
      ]
     },
     "execution_count": 53,
     "metadata": {},
     "output_type": "execute_result"
    },
    {
     "data": {
      "image/png": "[encoded data removed]",
      "text/plain": [
       "<Figure size 432x288 with 1 Axes>"
      ]
     },
     "metadata": {
      "needs_background": "light"
     },
     "output_type": "display_data"
    }
   ],
   "source": [
    "pd.Series(avg_review_over_time).plot()"
   ]
  },
  {
   "cell_type": "code",
   "execution_count": 29,
   "metadata": {},
   "outputs": [
    {
     "data": {
      "text/plain": [
       "array([0, 0, 0, ..., 0, 0, 0])"
      ]
     },
     "execution_count": 29,
     "metadata": {},
     "output_type": "execute_result"
    }
   ],
   "source": [
    "days"
   ]
  },
  {
   "cell_type": "code",
   "execution_count": 21,
   "metadata": {},
   "outputs": [
    {
     "data": {
      "text/plain": [
       "1023"
      ]
     },
     "execution_count": 21,
     "metadata": {},
     "output_type": "execute_result"
    }
   ],
   "source": [
    "max(review_time_on_day.keys())"
   ]
  },
  {
   "cell_type": "code",
   "execution_count": 18,
   "metadata": {},
   "outputs": [
    {
     "data": {
      "text/plain": [
       "0       13\n",
       "1       13\n",
       "3       13\n",
       "7       13\n",
       "15      13\n",
       "31      13\n",
       "63      13\n",
       "127     13\n",
       "255     13\n",
       "511     13\n",
       "1023    13\n",
       "dtype: int64"
      ]
     },
     "execution_count": 18,
     "metadata": {},
     "output_type": "execute_result"
    }
   ],
   "source": [
    "pd.Series(review_time_on_day).plot."
   ]
  },
  {
   "cell_type": "code",
   "execution_count": 16,
   "metadata": {},
   "outputs": [
    {
     "data": {
      "text/plain": [
       "defaultdict(int,\n",
       "            {0: 13,\n",
       "             1: 13,\n",
       "             3: 13,\n",
       "             7: 13,\n",
       "             15: 13,\n",
       "             31: 13,\n",
       "             63: 13,\n",
       "             127: 13,\n",
       "             255: 13,\n",
       "             511: 13,\n",
       "             1023: 13})"
      ]
     },
     "execution_count": 16,
     "metadata": {},
     "output_type": "execute_result"
    }
   ],
   "source": [
    "review_time_on_day"
   ]
  },
  {
   "cell_type": "code",
   "execution_count": null,
   "metadata": {},
   "outputs": [],
   "source": [
    "k"
   ]
  }
 ],
 "metadata": {
  "kernelspec": {
   "display_name": "Python 3",
   "language": "python",
   "name": "python3"
  },
  "language_info": {
   "codemirror_mode": {
    "name": "ipython",
    "version": 3
   },
   "file_extension": ".py",
   "mimetype": "text/x-python",
   "name": "python",
   "nbconvert_exporter": "python",
   "pygments_lexer": "ipython3",
   "version": "3.7.1"
  }
 },
 "nbformat": 4,
 "nbformat_minor": 4
}
